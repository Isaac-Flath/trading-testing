{
 "cells": [
  {
   "cell_type": "code",
   "execution_count": null,
   "id": "c89b61f2",
   "metadata": {},
   "outputs": [],
   "source": [
    "#| default_exp utils"
   ]
  },
  {
   "cell_type": "markdown",
   "id": "f8f56b72",
   "metadata": {},
   "source": [
    "# utils\n",
    "\n",
    "> API details."
   ]
  },
  {
   "cell_type": "code",
   "execution_count": null,
   "id": "4ea8d5bf",
   "metadata": {},
   "outputs": [],
   "source": [
    "#|hide\n",
    "from nbprocess.showdoc import *"
   ]
  },
  {
   "cell_type": "code",
   "execution_count": null,
   "id": "a1508981",
   "metadata": {},
   "outputs": [],
   "source": [
    "#|export\n",
    "from fastcore.all import *\n",
    "from datetime import timedelta"
   ]
  },
  {
   "cell_type": "code",
   "execution_count": null,
   "id": "32d12ad4",
   "metadata": {},
   "outputs": [],
   "source": [
    "#|export\n",
    "def get_next_trading_day(dte,unique_dates,dates_dict):\n",
    "    for i in range(10):\n",
    "        out = dates_dict.get(dte+timedelta(i),False) \n",
    "        if out != False: return unique_dates[out]\n",
    "    return None"
   ]
  },
  {
   "cell_type": "code",
   "execution_count": null,
   "id": "15e4036f",
   "metadata": {},
   "outputs": [],
   "source": []
  }
 ],
 "metadata": {
  "kernelspec": {
   "display_name": "Python 3 (ipykernel)",
   "language": "python",
   "name": "python3"
  }
 },
 "nbformat": 4,
 "nbformat_minor": 5
}
