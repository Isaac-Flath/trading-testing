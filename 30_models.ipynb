{
 "cells": [
  {
   "cell_type": "code",
   "execution_count": null,
   "metadata": {},
   "outputs": [],
   "source": [
    "#| default_exp models"
   ]
  },
  {
   "cell_type": "markdown",
   "metadata": {},
   "source": [
    "# models\n",
    "\n",
    "> API details."
   ]
  },
  {
   "cell_type": "code",
   "execution_count": null,
   "metadata": {},
   "outputs": [],
   "source": [
    "#|hide\n",
    "from nbprocess.showdoc import *"
   ]
  },
  {
   "cell_type": "code",
   "execution_count": null,
   "metadata": {},
   "outputs": [
    {
     "name": "stdout",
     "output_type": "stream",
     "text": [
      "/Users/isaacflath/github/trading-testing\n"
     ]
    },
    {
     "ename": "ModuleNotFoundError",
     "evalue": "No module named 'datamodule'",
     "output_type": "error",
     "traceback": [
      "\u001b[0;31m---------------------------------------------------------------------------\u001b[0m",
      "\u001b[0;31mModuleNotFoundError\u001b[0m                       Traceback (most recent call last)",
      "Input \u001b[0;32mIn [7]\u001b[0m, in \u001b[0;36m<cell line: 2>\u001b[0;34m()\u001b[0m\n\u001b[1;32m      1\u001b[0m \u001b[38;5;28mprint\u001b[39m(os\u001b[38;5;241m.\u001b[39mgetcwd())\n\u001b[0;32m----> 2\u001b[0m \u001b[38;5;28;01mfrom\u001b[39;00m \u001b[38;5;21;01mdatamodule\u001b[39;00m \u001b[38;5;28;01mimport\u001b[39;00m \u001b[38;5;241m*\u001b[39m\n\u001b[1;32m      3\u001b[0m \u001b[38;5;28;01mfrom\u001b[39;00m \u001b[38;5;21;01mutils\u001b[39;00m \u001b[38;5;28;01mimport\u001b[39;00m \u001b[38;5;241m*\u001b[39m\n",
      "\u001b[0;31mModuleNotFoundError\u001b[0m: No module named 'datamodule'"
     ]
    }
   ],
   "source": [
    "# print(os.getcwd())\n",
    "# from datamodule import *\n",
    "# from utils import *"
   ]
  },
  {
   "cell_type": "code",
   "execution_count": null,
   "metadata": {},
   "outputs": [],
   "source": [
    "#|export\n",
    "\n",
    "import pandas as pd\n",
    "import numpy as np\n",
    "from datetime import timedelta\n",
    "from fastcore.all import *"
   ]
  },
  {
   "cell_type": "code",
   "execution_count": null,
   "metadata": {},
   "outputs": [],
   "source": [
    "fpath = 'https://raw.githubusercontent.com/Isaac-Flath/trading/main/data/eod-quotemedia.csv'"
   ]
  },
  {
   "cell_type": "code",
   "execution_count": null,
   "metadata": {},
   "outputs": [],
   "source": [
    "#|export\n",
    "class RandomModel:\n",
    "    def __init__(self,action_probs): store_attr()\n",
    "        \n",
    "    def __call__(self, df,hold_time=28):\n",
    "        out = self.open_positions(df)\n",
    "        out = self.close_positions(out,hold_time)\n",
    "        \n",
    "        \n",
    "        f = bind(get_next_trading_day,unique_dates=L(*df.date),dates_dict=L(*df.date).val2idx())   \n",
    "        out['open_date']  = pd.to_datetime(out.open_date.apply(f))\n",
    "        out['close_date'] = pd.to_datetime(out.close_date.apply(f))\n",
    "        return out\n",
    "        \n",
    "    def open_positions(self,df):\n",
    "        out_cols = ['open_date','ticker','action']\n",
    "        out = pd.DataFrame(columns=out_cols)\n",
    "        in_df = df[['date','ticker']]\n",
    "        in_df.columns = out_cols[:-1]\n",
    "\n",
    "        for action,prob in action_probs.items():\n",
    "            _tmp = in_df.sample(frac=prob)\n",
    "            _tmp['action'] = action\n",
    "            out = pd.concat([out,_tmp])\n",
    "        out.sort_values('open_date',inplace=True)\n",
    "        \n",
    "        out['open_date'] = pd.to_datetime(out.open_date)\n",
    "        return out  \n",
    "    \n",
    "    def close_positions(self,df,hold_time):\n",
    "        df['close_date'] = df.open_date + timedelta(hold_time)\n",
    "        return df"
   ]
  },
  {
   "cell_type": "code",
   "execution_count": null,
   "metadata": {},
   "outputs": [],
   "source": [
    "# dm = DataModule(CsvGetter(fpath),SizeSplitter())"
   ]
  },
  {
   "cell_type": "code",
   "execution_count": null,
   "metadata": {},
   "outputs": [],
   "source": [
    "# action_probs = {'buy':.5,'short':.1}\n",
    "# h0 = RandomModel(action_probs)\n",
    "# _out = h0(dm.datasets.train.sample(1000))\n",
    "# assert _out[_out.action=='buy'].shape[0] > _out[_out.action=='short'].shape[0]*2"
   ]
  },
  {
   "cell_type": "code",
   "execution_count": null,
   "metadata": {},
   "outputs": [],
   "source": []
  },
  {
   "cell_type": "code",
   "execution_count": null,
   "metadata": {},
   "outputs": [],
   "source": []
  }
 ],
 "metadata": {
  "kernelspec": {
   "display_name": "Python 3 (ipykernel)",
   "language": "python",
   "name": "python3"
  }
 },
 "nbformat": 4,
 "nbformat_minor": 4
}
